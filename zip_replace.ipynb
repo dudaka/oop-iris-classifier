{
 "cells": [
  {
   "cell_type": "code",
   "execution_count": 1,
   "metadata": {},
   "outputs": [],
   "source": [
    "from __future__ import annotations\n",
    "import fnmatch\n",
    "from pathlib import Path\n",
    "import re\n",
    "import zipfile"
   ]
  },
  {
   "cell_type": "code",
   "execution_count": 2,
   "metadata": {},
   "outputs": [],
   "source": [
    "class ZipReplace:\n",
    "  def __init__(self, archive: Path, patern: str, find: str, replace: str) -> None:\n",
    "    self.archive_path = archive\n",
    "    self.patern = patern\n",
    "    self.find = find\n",
    "    self.replace = replace\n",
    "\n",
    "  def find_and_replace(self):\n",
    "    input_path, output_path = self.make_backup()\n",
    "\n",
    "    with zipfile.ZipFile(output_path, 'w') as output:\n",
    "      with zipfile.ZipFile(input_path) as input:\n",
    "        self.copy_and_transform(input, output)\n",
    "\n",
    "  def make_backup(self) -> tuple[Path, Path]:\n",
    "    input_path = self.archive_path.with_suffix(f'{self.archive_path.suffix}.old')\n",
    "    output_path = self.archive_path\n",
    "    self.archive_path.rename(input_path)\n",
    "    return input_path, output_path\n",
    "  \n",
    "  def copy_and_transform(self, input: zipfile.ZipFile, output: zipfile.ZipFile) -> None:\n",
    "    for item in input.infolist():\n",
    "      extracted = Path(input.extract(item))\n",
    "      if (not item.is_dir() and fnmatch.fnmatch(item.filename, self.patern)):\n",
    "        print(f'Transform {item}')\n",
    "        input_text = extracted.read_text()\n",
    "        output_text = re.sub(self.find, self.replace, input_text)\n",
    "        extracted.write_text(output_text)\n",
    "      else:\n",
    "        print(f'Ignore {item}')\n",
    "\n",
    "      output.write(extracted, item.filename)\n",
    "      extracted.unlink()\n",
    "      for parent in extracted.parents:\n",
    "        if parent == Path.cwd():\n",
    "          break\n",
    "        parent.rmdir()"
   ]
  },
  {
   "cell_type": "code",
   "execution_count": 3,
   "metadata": {},
   "outputs": [
    {
     "ename": "FileNotFoundError",
     "evalue": "[Errno 2] No such file or directory: 'sample.zip' -> 'sample.zip.old'",
     "output_type": "error",
     "traceback": [
      "\u001b[0;31m---------------------------------------------------------------------------\u001b[0m",
      "\u001b[0;31mFileNotFoundError\u001b[0m                         Traceback (most recent call last)",
      "Cell \u001b[0;32mIn[3], line 3\u001b[0m\n\u001b[1;32m      1\u001b[0m sample_zip \u001b[38;5;241m=\u001b[39m Path(\u001b[38;5;124m'\u001b[39m\u001b[38;5;124msample.zip\u001b[39m\u001b[38;5;124m'\u001b[39m)\n\u001b[1;32m      2\u001b[0m zr \u001b[38;5;241m=\u001b[39m ZipReplace(sample_zip, \u001b[38;5;124m'\u001b[39m\u001b[38;5;124m*.mds\u001b[39m\u001b[38;5;124m'\u001b[39m, \u001b[38;5;124m'\u001b[39m\u001b[38;5;124mhello\u001b[39m\u001b[38;5;124m'\u001b[39m, \u001b[38;5;124m'\u001b[39m\u001b[38;5;124mhi\u001b[39m\u001b[38;5;124m'\u001b[39m)\n\u001b[0;32m----> 3\u001b[0m \u001b[43mzr\u001b[49m\u001b[38;5;241;43m.\u001b[39;49m\u001b[43mfind_and_replace\u001b[49m\u001b[43m(\u001b[49m\u001b[43m)\u001b[49m\n",
      "Cell \u001b[0;32mIn[2], line 9\u001b[0m, in \u001b[0;36mZipReplace.find_and_replace\u001b[0;34m(self)\u001b[0m\n\u001b[1;32m      8\u001b[0m \u001b[38;5;28;01mdef\u001b[39;00m \u001b[38;5;21mfind_and_replace\u001b[39m(\u001b[38;5;28mself\u001b[39m):\n\u001b[0;32m----> 9\u001b[0m   input_path, output_path \u001b[38;5;241m=\u001b[39m \u001b[38;5;28;43mself\u001b[39;49m\u001b[38;5;241;43m.\u001b[39;49m\u001b[43mmake_backup\u001b[49m\u001b[43m(\u001b[49m\u001b[43m)\u001b[49m\n\u001b[1;32m     11\u001b[0m   \u001b[38;5;28;01mwith\u001b[39;00m zipfile\u001b[38;5;241m.\u001b[39mZipFile(output_path, \u001b[38;5;124m'\u001b[39m\u001b[38;5;124mw\u001b[39m\u001b[38;5;124m'\u001b[39m) \u001b[38;5;28;01mas\u001b[39;00m output:\n\u001b[1;32m     12\u001b[0m     \u001b[38;5;28;01mwith\u001b[39;00m zipfile\u001b[38;5;241m.\u001b[39mZipFile(input_path) \u001b[38;5;28;01mas\u001b[39;00m \u001b[38;5;28minput\u001b[39m:\n",
      "Cell \u001b[0;32mIn[2], line 18\u001b[0m, in \u001b[0;36mZipReplace.make_backup\u001b[0;34m(self)\u001b[0m\n\u001b[1;32m     16\u001b[0m input_path \u001b[38;5;241m=\u001b[39m \u001b[38;5;28mself\u001b[39m\u001b[38;5;241m.\u001b[39marchive_path\u001b[38;5;241m.\u001b[39mwith_suffix(\u001b[38;5;124mf\u001b[39m\u001b[38;5;124m'\u001b[39m\u001b[38;5;132;01m{\u001b[39;00m\u001b[38;5;28mself\u001b[39m\u001b[38;5;241m.\u001b[39marchive_path\u001b[38;5;241m.\u001b[39msuffix\u001b[38;5;132;01m}\u001b[39;00m\u001b[38;5;124m.old\u001b[39m\u001b[38;5;124m'\u001b[39m)\n\u001b[1;32m     17\u001b[0m output_path \u001b[38;5;241m=\u001b[39m \u001b[38;5;28mself\u001b[39m\u001b[38;5;241m.\u001b[39marchive_path\n\u001b[0;32m---> 18\u001b[0m \u001b[38;5;28;43mself\u001b[39;49m\u001b[38;5;241;43m.\u001b[39;49m\u001b[43marchive_path\u001b[49m\u001b[38;5;241;43m.\u001b[39;49m\u001b[43mrename\u001b[49m\u001b[43m(\u001b[49m\u001b[43minput_path\u001b[49m\u001b[43m)\u001b[49m\n\u001b[1;32m     19\u001b[0m \u001b[38;5;28;01mreturn\u001b[39;00m input_path, output_path\n",
      "File \u001b[0;32m~/anaconda3/envs/oop-iris-classifier/lib/python3.13/pathlib/_local.py:767\u001b[0m, in \u001b[0;36mPath.rename\u001b[0;34m(self, target)\u001b[0m\n\u001b[1;32m    757\u001b[0m \u001b[38;5;28;01mdef\u001b[39;00m \u001b[38;5;21mrename\u001b[39m(\u001b[38;5;28mself\u001b[39m, target):\n\u001b[1;32m    758\u001b[0m \u001b[38;5;250m    \u001b[39m\u001b[38;5;124;03m\"\"\"\u001b[39;00m\n\u001b[1;32m    759\u001b[0m \u001b[38;5;124;03m    Rename this path to the target path.\u001b[39;00m\n\u001b[1;32m    760\u001b[0m \n\u001b[0;32m   (...)\u001b[0m\n\u001b[1;32m    765\u001b[0m \u001b[38;5;124;03m    Returns the new Path instance pointing to the target path.\u001b[39;00m\n\u001b[1;32m    766\u001b[0m \u001b[38;5;124;03m    \"\"\"\u001b[39;00m\n\u001b[0;32m--> 767\u001b[0m     \u001b[43mos\u001b[49m\u001b[38;5;241;43m.\u001b[39;49m\u001b[43mrename\u001b[49m\u001b[43m(\u001b[49m\u001b[38;5;28;43mself\u001b[39;49m\u001b[43m,\u001b[49m\u001b[43m \u001b[49m\u001b[43mtarget\u001b[49m\u001b[43m)\u001b[49m\n\u001b[1;32m    768\u001b[0m     \u001b[38;5;28;01mreturn\u001b[39;00m \u001b[38;5;28mself\u001b[39m\u001b[38;5;241m.\u001b[39mwith_segments(target)\n",
      "\u001b[0;31mFileNotFoundError\u001b[0m: [Errno 2] No such file or directory: 'sample.zip' -> 'sample.zip.old'"
     ]
    }
   ],
   "source": [
    "sample_zip = Path('sample.zip')\n",
    "zr = ZipReplace(sample_zip, '*.mds', 'hello', 'hi')\n",
    "zr.find_and_replace()"
   ]
  },
  {
   "cell_type": "code",
   "execution_count": null,
   "metadata": {},
   "outputs": [],
   "source": []
  }
 ],
 "metadata": {
  "kernelspec": {
   "display_name": "oop-iris-classifier",
   "language": "python",
   "name": "python3"
  },
  "language_info": {
   "codemirror_mode": {
    "name": "ipython",
    "version": 3
   },
   "file_extension": ".py",
   "mimetype": "text/x-python",
   "name": "python",
   "nbconvert_exporter": "python",
   "pygments_lexer": "ipython3",
   "version": "3.13.0"
  }
 },
 "nbformat": 4,
 "nbformat_minor": 2
}
